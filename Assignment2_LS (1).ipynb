{
 "cells": [
  {
   "cell_type": "markdown",
   "metadata": {},
   "source": [
    "# Assignment 2 - Applied Genomics \n",
    "## Lauren Shelby "
   ]
  },
  {
   "cell_type": "markdown",
   "metadata": {},
   "source": [
    "## Part 0"
   ]
  },
  {
   "cell_type": "code",
   "execution_count": 2,
   "metadata": {},
   "outputs": [
    {
     "name": "stdout",
     "output_type": "stream",
     "text": [
      "/scratch/las10014/ApGenomics2024/Homework2\n"
     ]
    }
   ],
   "source": [
    "pwd"
   ]
  },
  {
   "cell_type": "code",
   "execution_count": 2,
   "metadata": {},
   "outputs": [],
   "source": [
    "# Making new directory for this assignment and changing directories into that folder \n",
    "\n",
    "mkdir Homework2\n",
    "cd Homework2"
   ]
  },
  {
   "cell_type": "code",
   "execution_count": 7,
   "metadata": {},
   "outputs": [],
   "source": [
    "#Copying files needed into this folder\n",
    "\n",
    "cp /scratch/work/courses/AppliedGenomicsSec3/students/Homework2/ce10.fa ./\n",
    "cp /scratch/work/courses/AppliedGenomicsSec3/students/Homework2/ce10.refGene.gtf ./\n",
    "cp /scratch/work/courses/AppliedGenomicsSec3/students/Homework2/HWVLJBGXT_n01_HW16.fastq ./"
   ]
  },
  {
   "cell_type": "markdown",
   "metadata": {},
   "source": [
    "## Part 1"
   ]
  },
  {
   "cell_type": "markdown",
   "metadata": {},
   "source": [
    "### BWA-mem Alignment "
   ]
  },
  {
   "cell_type": "code",
   "execution_count": 22,
   "metadata": {},
   "outputs": [
    {
     "name": "stdout",
     "output_type": "stream",
     "text": [
      "\n",
      "--------------------------- /share/apps/modulefiles ----------------------------\n",
      "   bwa-mem2/2.1    bwa/intel/0.7.17\n"
     ]
    }
   ],
   "source": [
    "# Checking the correct synthax of BWA-mem module \n",
    "\n",
    "module avail bwa"
   ]
  },
  {
   "cell_type": "code",
   "execution_count": 25,
   "metadata": {},
   "outputs": [
    {
     "name": "stdout",
     "output_type": "stream",
     "text": [
      "#!/bin/bash\n",
      "#SBATCH --nodes=2\n",
      "#SBATCH --ntasks-per-node=1\n",
      "#SBATCH --cpus-per-task=1\n",
      "#SBATCH --time=1:00:00\n",
      "#SBATCH --mem=32GB\n",
      "#SBATCH --job-name=ce10_BWA-mem__ce10_alignment\n",
      "\n",
      "# Purging and loading the BWA-mem module \n",
      "module purge \n",
      "module load bwa/intel/0.7.17\n",
      "\n",
      "# Using bwa index to create the index for alignment \n",
      "bwa index ce10.fa \n",
      "\n",
      "# Using bwa mem to run the alignment \n",
      "bwa mem ce10.fa HWVLJBGXT_n01_HW16.fastq > ce10_alignment_bwa.sam"
     ]
    }
   ],
   "source": [
    "cat BWA-mem_alignment.txt"
   ]
  },
  {
   "cell_type": "code",
   "execution_count": 26,
   "metadata": {},
   "outputs": [
    {
     "name": "stdout",
     "output_type": "stream",
     "text": [
      "Submitted batch job 42924251\n"
     ]
    }
   ],
   "source": [
    "sbatch BWA-mem_alignment.txt"
   ]
  },
  {
   "cell_type": "markdown",
   "metadata": {},
   "source": [
    "### HISAT2 Alignment"
   ]
  },
  {
   "cell_type": "code",
   "execution_count": 27,
   "metadata": {},
   "outputs": [
    {
     "name": "stdout",
     "output_type": "stream",
     "text": [
      "\n",
      "--------------------------- /share/apps/modulefiles ----------------------------\n",
      "   hisat-3n/20231120    hisat2/2.2.1\n"
     ]
    }
   ],
   "source": [
    "# Checking for HISAT2 module \n",
    "\n",
    "module avail hisat"
   ]
  },
  {
   "cell_type": "code",
   "execution_count": 28,
   "metadata": {},
   "outputs": [
    {
     "name": "stdout",
     "output_type": "stream",
     "text": [
      "#!/bin/bash\n",
      "#SBATCH --nodes=2\n",
      "#SBATCH --ntasks-per-node=1\n",
      "#SBATCH --cpus-per-task=1\n",
      "#SBATCH --time=1:00:00\n",
      "#SBATCH --mem=32GB\n",
      "#SBATCH --job-name=HISAT2_ce10_alignment\n",
      "\n",
      "# Purging and loading the HISAT2 module \n",
      "module purge \n",
      "module load hisat2/2.2.1\n",
      "\n",
      "# Running hisat2_extract_exons.py to extract information about exons \n",
      "hisat2_extract_exons.py ce10.refGene.gtf > ce10_exons.txt\n",
      "\n",
      "# Running hisat2_extract_splice_sites.py to extract information about splice sites \n",
      "hisat2_extract_splice_sites.py ce10.refGene.gtf > ce10_splicesites.txt \n",
      "\n",
      "# Using hisat2-build in combination with ce10_exons.txt and ce10_splicesites.txt to build the index \n",
      "hisat2-build ce10.fa \\\n",
      "--ss ce10_splicesites.txt \\\n",
      "--exon ce10_exons.txt \\\n",
      "index_hisat2\n",
      "\n",
      "# Running the alignment with hisat2 \n",
      "hisat2 -x index_hisat2 -U HWVLJBGXT_n01_HW16.fastq -S ce10_alignment_hisat2.sam --rna-strandness R\n"
     ]
    }
   ],
   "source": [
    "cat HISAT2_alignment.txt"
   ]
  },
  {
   "cell_type": "code",
   "execution_count": 29,
   "metadata": {},
   "outputs": [
    {
     "name": "stdout",
     "output_type": "stream",
     "text": [
      "Submitted batch job 42924426\n"
     ]
    }
   ],
   "source": [
    "sbatch HISAT2_alignment.txt"
   ]
  },
  {
   "cell_type": "markdown",
   "metadata": {},
   "source": [
    "### STAR Alignment "
   ]
  },
  {
   "cell_type": "code",
   "execution_count": 31,
   "metadata": {},
   "outputs": [
    {
     "name": "stdout",
     "output_type": "stream",
     "text": [
      "\n",
      "--------------------------- /share/apps/modulefiles ----------------------------\n",
      "   star/intel/2.7.6a    star/intel/2.7.11a    starpu/openmpi/intel/20230822\n"
     ]
    }
   ],
   "source": [
    "# Checking for STAR module \n",
    "\n",
    "module avail star"
   ]
  },
  {
   "cell_type": "code",
   "execution_count": 1,
   "metadata": {},
   "outputs": [
    {
     "name": "stdout",
     "output_type": "stream",
     "text": [
      "#!/bin/bash\n",
      "#SBATCH --nodes=2\n",
      "#SBATCH --ntasks-per-node=1\n",
      "#SBATCH --cpus-per-task=1\n",
      "#SBATCH --time=1:00:00\n",
      "#SBATCH --mem=32GB\n",
      "#SBATCH --job-name=STAR_ce10_alignment\n",
      "\n",
      "# Purging and loading the STAR module \n",
      "module purge \n",
      "module load star/intel/2.7.11a\n",
      "\n",
      "# Building the STAR index \n",
      "STAR --runThreadN 2 \\\n",
      "--genomeSAindexNbases 12 \\\n",
      "--runMode genomeGenerate \\\n",
      "--genomeDir star_index \\\n",
      "--genomeFastaFiles ce10.fa \\\n",
      "--sjdbGTFfile ce10.refGene.gtf \\\n",
      "--sjdbOverhang 74\n",
      "\n",
      "# Running the STAR alignment \n",
      "STAR --runThreadN 2 \\\n",
      "--readFilesIn HWVLJBGXT_n01_HW16.fastq \\\n",
      "--genomeDir star_index \\\n",
      "--outFileNamePrefix ce10_alignment_star"
     ]
    }
   ],
   "source": [
    "cat STAR_alignment.txt"
   ]
  },
  {
   "cell_type": "code",
   "execution_count": 2,
   "metadata": {},
   "outputs": [
    {
     "name": "stdout",
     "output_type": "stream",
     "text": [
      "Submitted batch job 42925714\n"
     ]
    }
   ],
   "source": [
    "sbatch STAR_alignment.txt"
   ]
  },
  {
   "cell_type": "markdown",
   "metadata": {},
   "source": [
    "## Part 2\n",
    "\n",
    "### Question 1"
   ]
  },
  {
   "cell_type": "code",
   "execution_count": 5,
   "metadata": {},
   "outputs": [
    {
     "name": "stdout",
     "output_type": "stream",
     "text": [
      "\n",
      "--------------------------- /share/apps/modulefiles ----------------------------\n",
      "   libsamplerate/intel/0.2.1    samclip/0.4.0          samtools/intel/1.14\n",
      "   pysam/0.16.0.1               samtools/intel/1.11\n",
      "   samblaster/0.1.26            samtools/intel/1.12\n"
     ]
    }
   ],
   "source": [
    "# Checking the availability of the samtools module \n",
    "module avail sam"
   ]
  },
  {
   "cell_type": "code",
   "execution_count": 6,
   "metadata": {},
   "outputs": [],
   "source": [
    "# Purging and loading the samtools module \n",
    "module purge\n",
    "module load samtools/intel/1.14"
   ]
  },
  {
   "cell_type": "code",
   "execution_count": 9,
   "metadata": {},
   "outputs": [
    {
     "name": "stdout",
     "output_type": "stream",
     "text": [
      "-rw-rw-r--. 1 las10014 las10014  5.4G Feb 13 17:06 ce10_alignment_starAligned.out.sam\n",
      "-rw-rw-r--. 1 las10014 las10014  5.1G Feb 13 16:40 ce10_alignment_bwa.sam\n",
      "-rw-rw-r--. 1 las10014 las10014  6.3G Feb 13 16:40 ce10_alignment_hisat2.sam\n"
     ]
    }
   ],
   "source": [
    "# Loading all files with 'sam' in this directory and displaying the \n",
    "    # execution permissions, file size, and displaying by time it was created\n",
    "# The sam files are 5.1GB, 5.4GB, and 6.3GB respectively\n",
    "ls -lht | grep sam"
   ]
  },
  {
   "cell_type": "code",
   "execution_count": 8,
   "metadata": {},
   "outputs": [],
   "source": [
    "# Creating a loop for every file ending in 'sam' in this directory, to run \n",
    "    # the samtools module to convert it to a bam file \n",
    "\n",
    "for file in ./*sam\n",
    "do\n",
    "samtools view -bS $file > ${file::-3}bam\n",
    "done"
   ]
  },
  {
   "cell_type": "code",
   "execution_count": 10,
   "metadata": {},
   "outputs": [
    {
     "name": "stdout",
     "output_type": "stream",
     "text": [
      "-rw-rw-r--. 1 las10014 las10014  1.3G Feb 14 09:26 ce10_alignment_starAligned.out.bam\n",
      "-rw-rw-r--. 1 las10014 las10014  1.4G Feb 14 09:22 ce10_alignment_hisat2.bam\n",
      "-rw-rw-r--. 1 las10014 las10014  1.4G Feb 14 09:18 ce10_alignment_bwa.bam\n"
     ]
    }
   ],
   "source": [
    "# Loading all 'bam' files in the directory created by the loop above \n",
    "    # Displaying the execution permissions, the size of the file, and sorted by time\n",
    "    # The sam fils are 1.3GB, 1.4GB, and 1.4GB respectively, much smaller than the SAM files\n",
    "\n",
    "ls -lht|grep bam"
   ]
  },
  {
   "cell_type": "markdown",
   "metadata": {},
   "source": [
    "### Question 2"
   ]
  },
  {
   "cell_type": "code",
   "execution_count": 23,
   "metadata": {},
   "outputs": [
    {
     "name": "stdout",
     "output_type": "stream",
     "text": [
      "20781509 + 0 in total (QC-passed reads + QC-failed reads)\n",
      "19912446 + 0 primary\n",
      "0 + 0 secondary\n",
      "869063 + 0 supplementary\n",
      "0 + 0 duplicates\n",
      "0 + 0 primary duplicates\n",
      "20411339 + 0 mapped (98.22% : N/A)\n",
      "19542276 + 0 primary mapped (98.14% : N/A)\n",
      "0 + 0 paired in sequencing\n",
      "0 + 0 read1\n",
      "0 + 0 read2\n",
      "0 + 0 properly paired (N/A : N/A)\n",
      "0 + 0 with itself and mate mapped\n",
      "0 + 0 singletons (N/A : N/A)\n",
      "0 + 0 with mate mapped to a different chr\n",
      "0 + 0 with mate mapped to a different chr (mapQ>=5)\n",
      "22325177 + 0 in total (QC-passed reads + QC-failed reads)\n",
      "19912446 + 0 primary\n",
      "2412731 + 0 secondary\n",
      "0 + 0 supplementary\n",
      "0 + 0 duplicates\n",
      "0 + 0 primary duplicates\n",
      "21407293 + 0 mapped (95.89% : N/A)\n",
      "18994562 + 0 primary mapped (95.39% : N/A)\n",
      "0 + 0 paired in sequencing\n",
      "0 + 0 read1\n",
      "0 + 0 read2\n",
      "0 + 0 properly paired (N/A : N/A)\n",
      "0 + 0 with itself and mate mapped\n",
      "0 + 0 singletons (N/A : N/A)\n",
      "0 + 0 with mate mapped to a different chr\n",
      "0 + 0 with mate mapped to a different chr (mapQ>=5)\n",
      "22172399 + 0 in total (QC-passed reads + QC-failed reads)\n",
      "19507548 + 0 primary\n",
      "2664851 + 0 secondary\n",
      "0 + 0 supplementary\n",
      "0 + 0 duplicates\n",
      "0 + 0 primary duplicates\n",
      "22172399 + 0 mapped (100.00% : N/A)\n",
      "19507548 + 0 primary mapped (100.00% : N/A)\n",
      "0 + 0 paired in sequencing\n",
      "0 + 0 read1\n",
      "0 + 0 read2\n",
      "0 + 0 properly paired (N/A : N/A)\n",
      "0 + 0 with itself and mate mapped\n",
      "0 + 0 singletons (N/A : N/A)\n",
      "0 + 0 with mate mapped to a different chr\n",
      "0 + 0 with mate mapped to a different chr (mapQ>=5)\n"
     ]
    }
   ],
   "source": [
    "# Using samtools flagstat to get mapping statistics of the bam files \n",
    "    # generated by the 3 aligners \n",
    "\n",
    "samtools flagstat ce10_alignment_bwa.bam\n",
    "samtools flagstat ce10_alignment_hisat2.bam\n",
    "samtools flagstat ce10_alignment_starAligned.out.bam"
   ]
  },
  {
   "cell_type": "markdown",
   "metadata": {},
   "source": [
    "It looks like BWA aligned about 98% of the C. elegans genome to the reference, HISAT2 mapped about 95% of the C. elegans genome to the reference, and STAR mapped 100% of the C. elegans genome to the reference. \n",
    "\n",
    "BWA is good for long-read sequences and allows for more SNPs while aligning, but it doesn't take into account any sort of gene annnotation for aligning which makes me question the accuracy. \n",
    "\n",
    "HISAT2 takes into account splice site, adaptor sequences, and exon information which makes me believe it is more accurate than BWA. It can process both DNA and RNA sequences. \n",
    "\n",
    "STAR is designed specifically for RNA-seq data, which means it has awareness of splice sites, exons, and genes. In this context, I'd likely select STAR because we are using C. elegans RNA-seq data, and the samtools flagstat data show that 100% of the RNA-seq data was aligned to the reference. "
   ]
  },
  {
   "cell_type": "code",
   "execution_count": null,
   "metadata": {},
   "outputs": [],
   "source": []
  }
 ],
 "metadata": {
  "kernelspec": {
   "display_name": "Bash",
   "language": "bash",
   "name": "bash"
  },
  "language_info": {
   "codemirror_mode": "shell",
   "file_extension": ".sh",
   "mimetype": "text/x-sh",
   "name": "bash"
  }
 },
 "nbformat": 4,
 "nbformat_minor": 4
}
